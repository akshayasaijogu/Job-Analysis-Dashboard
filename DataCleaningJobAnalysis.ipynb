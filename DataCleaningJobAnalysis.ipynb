{
  "nbformat": 4,
  "nbformat_minor": 0,
  "metadata": {
    "colab": {
      "provenance": []
    },
    "kernelspec": {
      "name": "python3",
      "display_name": "Python 3"
    },
    "language_info": {
      "name": "python"
    }
  },
  "cells": [
    {
      "cell_type": "code",
      "execution_count": 2,
      "metadata": {
        "id": "rrgQbN0-Rfq6"
      },
      "outputs": [],
      "source": [
        "import pandas as pd\n",
        "\n",
        "# Load all 3 files (update path if needed)\n",
        "df_2018 = pd.read_csv(\"survey_results_sample_2018.csv\", low_memory=False)\n",
        "df_2019 = pd.read_csv(\"survey_results_sample_2019.csv\", low_memory=False)\n",
        "df_2020 = pd.read_csv(\"survey_results_sample_2020.csv\", low_memory=False)"
      ]
    },
    {
      "cell_type": "code",
      "source": [
        "df_2018 = df_2018.rename(columns={\n",
        "    'ConvertedSalary': 'ConvertedComp',\n",
        "    'YearsCodingProf': 'YearsCodePro',\n",
        "    'JobSatisfaction': 'JobSat',\n",
        "    'FormalEducation': 'EdLevel'\n",
        "})\n",
        "\n",
        "columns_needed_2018 = ['ConvertedComp', 'EdLevel', 'YearsCodePro', 'DevType', 'LanguageDesireNextYear', 'JobSat']\n",
        "df_2018 = df_2018[columns_needed_2018]\n",
        "df_2018['Year'] = 2018"
      ],
      "metadata": {
        "id": "PzVzwgZISFJU"
      },
      "execution_count": 3,
      "outputs": []
    },
    {
      "cell_type": "code",
      "source": [
        "columns_needed_2019 = ['ConvertedComp', 'EdLevel', 'YearsCodePro', 'DevType', 'LanguageDesireNextYear', 'JobSat']\n",
        "df_2019 = df_2019[columns_needed_2019]\n",
        "df_2019['Year'] = 2019\n"
      ],
      "metadata": {
        "colab": {
          "base_uri": "https://localhost:8080/"
        },
        "id": "32G70XW_SJHf",
        "outputId": "c627ba82-1e0f-4c90-f376-f916cb154422"
      },
      "execution_count": 4,
      "outputs": [
        {
          "output_type": "stream",
          "name": "stderr",
          "text": [
            "<ipython-input-4-4510ca781e3e>:3: SettingWithCopyWarning: \n",
            "A value is trying to be set on a copy of a slice from a DataFrame.\n",
            "Try using .loc[row_indexer,col_indexer] = value instead\n",
            "\n",
            "See the caveats in the documentation: https://pandas.pydata.org/pandas-docs/stable/user_guide/indexing.html#returning-a-view-versus-a-copy\n",
            "  df_2019['Year'] = 2019\n"
          ]
        }
      ]
    },
    {
      "cell_type": "code",
      "source": [
        "columns_needed_2020 = ['ConvertedComp', 'EdLevel', 'YearsCodePro', 'DevType', 'LanguageDesireNextYear', 'JobSat']\n",
        "df_2020 = df_2020[columns_needed_2020]\n",
        "df_2020['Year'] = 2020"
      ],
      "metadata": {
        "colab": {
          "base_uri": "https://localhost:8080/"
        },
        "id": "E7fwFkpCSM2k",
        "outputId": "1c10c6f1-54a5-4e6f-e459-ebd37b89f33f"
      },
      "execution_count": 5,
      "outputs": [
        {
          "output_type": "stream",
          "name": "stderr",
          "text": [
            "<ipython-input-5-6ee60c0924d7>:3: SettingWithCopyWarning: \n",
            "A value is trying to be set on a copy of a slice from a DataFrame.\n",
            "Try using .loc[row_indexer,col_indexer] = value instead\n",
            "\n",
            "See the caveats in the documentation: https://pandas.pydata.org/pandas-docs/stable/user_guide/indexing.html#returning-a-view-versus-a-copy\n",
            "  df_2020['Year'] = 2020\n"
          ]
        }
      ]
    },
    {
      "cell_type": "code",
      "source": [
        "df_all = pd.concat([df_2018, df_2019, df_2020], ignore_index=True)\n"
      ],
      "metadata": {
        "id": "PGFAkusdSRin"
      },
      "execution_count": 6,
      "outputs": []
    },
    {
      "cell_type": "code",
      "source": [
        "df_all['ConvertedComp'] = pd.to_numeric(df_all['ConvertedComp'], errors='coerce')\n",
        "df_all = df_all[df_all['ConvertedComp'].notnull()]\n",
        "df_all = df_all[(df_all['ConvertedComp'] > 1000) & (df_all['ConvertedComp'] < 300000)]\n"
      ],
      "metadata": {
        "id": "7LPV6syGSY9X"
      },
      "execution_count": 7,
      "outputs": []
    },
    {
      "cell_type": "code",
      "source": [
        "df_all['YearsCodePro'] = df_all['YearsCodePro'].replace({\n",
        "    'Less than 1 year': '0.5',\n",
        "    'More than 50 years': '51'\n",
        "})\n",
        "df_all['YearsCodePro'] = pd.to_numeric(df_all['YearsCodePro'], errors='coerce')\n"
      ],
      "metadata": {
        "id": "W9fWwrbVSmau"
      },
      "execution_count": 8,
      "outputs": []
    },
    {
      "cell_type": "code",
      "source": [
        "df_all = df_all.dropna(subset=[\n",
        "    'ConvertedComp', 'EdLevel', 'YearsCodePro', 'DevType',\n",
        "    'LanguageDesireNextYear', 'JobSat'\n",
        "])"
      ],
      "metadata": {
        "id": "av0RMamqSrI6"
      },
      "execution_count": 9,
      "outputs": []
    },
    {
      "cell_type": "code",
      "source": [
        "df_all['EdLevel'] = df_all['EdLevel'].str.strip()\n",
        "df_all['DevType'] = df_all['DevType'].str.strip()\n",
        "df_all['LanguageDesireNextYear'] = df_all['LanguageDesireNextYear'].str.strip()\n",
        "df_all['JobSat'] = df_all['JobSat'].str.strip()"
      ],
      "metadata": {
        "id": "fSBq0wj8SrFf"
      },
      "execution_count": 10,
      "outputs": []
    },
    {
      "cell_type": "code",
      "source": [
        "df_all.to_csv(\"cleaned_stackoverflow_2018_2020.csv\", index=False)\n",
        "print(\"✅ Cleaned dataset saved as 'cleaned_stackoverflow_2018_2020.csv'\")"
      ],
      "metadata": {
        "colab": {
          "base_uri": "https://localhost:8080/"
        },
        "id": "s2ZE2CZnS0Tp",
        "outputId": "1c0c6c80-cc46-4684-c6b2-b37afd71226e"
      },
      "execution_count": 11,
      "outputs": [
        {
          "output_type": "stream",
          "name": "stdout",
          "text": [
            "✅ Cleaned dataset saved as 'cleaned_stackoverflow_2018_2020.csv'\n"
          ]
        }
      ]
    },
    {
      "cell_type": "code",
      "source": [],
      "metadata": {
        "id": "UzOc7k8cSzlA"
      },
      "execution_count": null,
      "outputs": []
    }
  ]
}